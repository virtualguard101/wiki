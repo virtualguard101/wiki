{
 "cells": [
  {
   "cell_type": "markdown",
   "id": "1927adc5",
   "metadata": {},
   "source": [
    "# 逻辑回归\n",
    "\n",
    "> [Machine Learning | Coursera](https://www.coursera.org/specializations/machine-learning-introduction)\n"
   ]
  },
  {
   "cell_type": "code",
   "execution_count": 1,
   "id": "dc278f12",
   "metadata": {},
   "outputs": [],
   "source": [
    "import numpy as np\n",
    "# %matplotlib widget\n",
    "import matplotlib.pyplot as plt\n",
    "from src.plt_one_addpt_onclick import plt_one_addpt_onclick\n",
    "from src.lab_utils_common import draw_vthresh\n",
    "plt.style.use('seaborn-v0_8')\n"
   ]
  },
  {
   "cell_type": "markdown",
   "id": "99e7e547",
   "metadata": {},
   "source": [
    "## Definition\n",
    "\n",
    "虽然称呼中带着\"回归\"二字, 但**逻辑回归 (*Logisitc Regression*)**是一种用于[**分类 (*Classification*)**](super-unsuper-learning.md#分类算法)的线性模型.\n",
    "\n",
    "逻辑回归通过**逻辑函数 (*Sigmoid*)**将线性组合映射到 0–1 概率，再按阈值做二分类或多分类.\n",
    "\n",
    "## Sigmoid Function\n",
    "\n",
    "逻辑函数的数学表达式如下:\n",
    "\n",
    "$$\n",
    "g(z) = \\frac{1}{1 + e^{-z}}\n",
    "$$\n",
    "\n",
    "使用Python实现:\n"
   ]
  },
  {
   "cell_type": "code",
   "execution_count": 2,
   "id": "27c9f007",
   "metadata": {},
   "outputs": [],
   "source": [
    "def sigmoid(z):\n",
    "    \"\"\"Compute the sigmoid of z\n",
    "\n",
    "    Args:\n",
    "        z (ndarray): A scalar, numpy array of any size.\n",
    "\n",
    "    Returns:\n",
    "        g (ndarray): sigmoid(z), with the same shape as z\n",
    "         \n",
    "    \"\"\"\n",
    "\n",
    "    g = 1/(1+np.exp(-z))\n",
    "   \n",
    "    return g\n"
   ]
  },
  {
   "cell_type": "code",
   "execution_count": 3,
   "id": "651d9e29",
   "metadata": {},
   "outputs": [
    {
     "name": "stdout",
     "output_type": "stream",
     "text": [
      "Input (z), Output (sigmoid(z))\n",
      "[[-1.000e+01  4.540e-05]\n",
      " [-9.000e+00  1.234e-04]\n",
      " [-8.000e+00  3.354e-04]\n",
      " [-7.000e+00  9.111e-04]\n",
      " [-6.000e+00  2.473e-03]\n",
      " [-5.000e+00  6.693e-03]\n",
      " [-4.000e+00  1.799e-02]\n",
      " [-3.000e+00  4.743e-02]\n",
      " [-2.000e+00  1.192e-01]\n",
      " [-1.000e+00  2.689e-01]\n",
      " [ 0.000e+00  5.000e-01]\n",
      " [ 1.000e+00  7.311e-01]\n",
      " [ 2.000e+00  8.808e-01]\n",
      " [ 3.000e+00  9.526e-01]\n",
      " [ 4.000e+00  9.820e-01]\n",
      " [ 5.000e+00  9.933e-01]\n",
      " [ 6.000e+00  9.975e-01]\n",
      " [ 7.000e+00  9.991e-01]\n",
      " [ 8.000e+00  9.997e-01]\n",
      " [ 9.000e+00  9.999e-01]\n",
      " [ 1.000e+01  1.000e+00]]\n"
     ]
    }
   ],
   "source": [
    "# Generate an array of evenly spaced values between -10 and 10\n",
    "z_tmp = np.arange(-10,11)\n",
    "\n",
    "# Use the function implemented above to get the sigmoid values\n",
    "y = sigmoid(z_tmp)\n",
    "\n",
    "# Code for pretty printing the two arrays next to each other\n",
    "np.set_printoptions(precision=3) \n",
    "print(\"Input (z), Output (sigmoid(z))\")\n",
    "print(np.c_[z_tmp, y])\n"
   ]
  },
  {
   "cell_type": "markdown",
   "id": "9dc350d4",
   "metadata": {},
   "source": [
    "可视化后, 可以看出逻辑函数的基本特征, 其中最明显的就是\"二分\".\n"
   ]
  },
  {
   "cell_type": "code",
   "execution_count": 4,
   "id": "96783017",
   "metadata": {},
   "outputs": [
    {
     "data": {
      "image/png": "[encoded data removed]",
      "text/plain": [
       "<Figure size 500x300 with 1 Axes>"
      ]
     },
     "metadata": {},
     "output_type": "display_data"
    }
   ],
   "source": [
    "# Plot z vs sigmoid(z)\n",
    "fig,ax = plt.subplots(1,1,figsize=(5,3))\n",
    "ax.plot(z_tmp, y, c=\"b\")\n",
    "\n",
    "ax.set_title(\"Sigmoid function\")\n",
    "ax.set_ylabel('sigmoid(z)')\n",
    "ax.set_xlabel('z')\n",
    "draw_vthresh(ax,0)\n"
   ]
  },
  {
   "cell_type": "markdown",
   "id": "d8c25528",
   "metadata": {},
   "source": [
    "## Mathematical Model of Logistic Regression\n",
    "\n",
    "逻辑回归用逻辑函数把线性组合压缩到 $0–1$ 之间:\n",
    "\n",
    "$$\n",
    "P(y = 1 | \\overrightarrow{x}) = \\frac{1}{1 + e^{(-z)}}\n",
    "$$\n",
    "\n",
    "<mark>本质上是一个概率计算器, 把问题抽象成为一个**概率模型**</mark>.\n",
    "\n",
    "其中,\n",
    "\n",
    "$$\n",
    "z = w_1x_1 + w_2x_2 + \\cdots + w_nx_n + b\n",
    "$$\n",
    "\n",
    "这里的 $P(y = 1 | \\overrightarrow{x})$ 指的就是**概率**, 满足**概率守恒**:\n",
    "\n",
    "$$\n",
    "P(y = 0 | \\overrightarrow{x}) + P(y = 1 | \\overrightarrow{x}) = 1\n",
    "$$\n",
    "\n",
    "注意观察可以发现, $z$ 的表达式与先前学习的线性回归模型是相似的, 这二者确实存在一定联系, 这个表达式本身也揭示了线性回归中**特征加权**的思想.\n",
    "\n",
    "因此逻辑回归还可以表示成如下形式, 即**线性组合 + 概率模型转换**的一步到位:\n",
    "\n",
    "$$\n",
    "\\begin{align}\n",
    "    f_{\\overrightarrow{w}, b}(\\overrightarrow{x^{(i)}}) & = g(\\overrightarrow{w} \\cdot \\overrightarrow{x^{(i)}} + b) \\\\\n",
    "    & = \\frac{1}{1 + e^{-(\\overrightarrow{w} \\cdot \\overrightarrow{x^{(i)}} + b)}} \\\\\n",
    "    & = P(y = 1 | \\overrightarrow{x}; \\overrightarrow{w}, b)\n",
    "\\end{align}\n",
    "$$\n"
   ]
  }
 ],
 "metadata": {
  "kernelspec": {
   "display_name": ".venv",
   "language": "python",
   "name": "python3"
  },
  "language_info": {
   "codemirror_mode": {
    "name": "ipython",
    "version": 3
   },
   "file_extension": ".py",
   "mimetype": "text/x-python",
   "name": "python",
   "nbconvert_exporter": "python",
   "pygments_lexer": "ipython3",
   "version": "3.12.10"
  }
 },
 "nbformat": 4,
 "nbformat_minor": 5
}
