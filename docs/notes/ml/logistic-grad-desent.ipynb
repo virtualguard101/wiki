{
 "cells": [
  {
   "cell_type": "markdown",
   "id": "a7f774aa",
   "metadata": {},
   "source": [
    "# 逻辑回归的梯度下降\n"
   ]
  }
 ],
 "metadata": {
  "language_info": {
   "name": "python"
  }
 },
 "nbformat": 4,
 "nbformat_minor": 5
}
